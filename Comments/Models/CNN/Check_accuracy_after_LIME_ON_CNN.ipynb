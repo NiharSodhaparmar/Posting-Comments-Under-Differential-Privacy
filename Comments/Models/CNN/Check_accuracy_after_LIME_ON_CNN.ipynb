{
  "cells": [
    {
      "cell_type": "code",
      "execution_count": null,
      "metadata": {
        "colab": {
          "base_uri": "https://localhost:8080/"
        },
        "id": "MtR658fnqm50",
        "outputId": "9db2f8b8-b4e0-47ea-dbfe-4eb807610d51"
      },
      "outputs": [],
      "source": [
        "from google.colab import drive\n",
        "drive.mount('/content/drive')"
      ]
    },
    {
      "cell_type": "code",
      "execution_count": null,
      "metadata": {
        "colab": {
          "base_uri": "https://localhost:8080/"
        },
        "id": "XIaBee8irQWY",
        "outputId": "ba1dfb20-ead1-469d-f342-427439d1e01f"
      },
      "outputs": [],
      "source": [
        "!pip install lime"
      ]
    },
    {
      "cell_type": "code",
      "execution_count": null,
      "metadata": {
        "id": "nBFcNDjVrRH3"
      },
      "outputs": [],
      "source": [
        "# Importing libraries\n",
        "from keras.preprocessing.text import Tokenizer\n",
        "from keras.preprocessing.sequence import pad_sequences\n",
        "from keras.utils import to_categorical\n",
        "\n",
        "from keras.layers import Dense, Input, GlobalMaxPooling1D\n",
        "from keras.layers import Conv1D, MaxPooling1D, Embedding, Flatten\n",
        "from keras.models import Model\n",
        "from keras.models import Sequential\n",
        "from keras.initializers import Constant\n",
        "\n",
        "from lime.lime_text import LimeTextExplainer\n",
        "\n",
        "import pandas as pd\n",
        "import numpy as np\n",
        "from sklearn.model_selection import train_test_split\n",
        "from operator import itemgetter\n",
        "from tqdm import tqdm"
      ]
    },
    {
      "cell_type": "code",
      "execution_count": null,
      "metadata": {
        "id": "a0TUSmhfrfqi"
      },
      "outputs": [],
      "source": [
        "def load_data(data_file):\n",
        "  # read csv file\n",
        "  df = pd.read_csv(data_file)\n",
        "\n",
        "  # replace nan(no value) comment with \"\"(empty string)\n",
        "  df.fillna(\"\", inplace=True)\n",
        "\n",
        "  comments = df['comments'].tolist()\n",
        "  genders = df['labels'].tolist()\n",
        "\n",
        "  genders = [0 if gender == \"Male\" else 1 for gender in genders]\n",
        "\n",
        "  return comments, genders"
      ]
    },
    {
      "cell_type": "code",
      "execution_count": null,
      "metadata": {
        "id": "nygJ4JeGrj-I"
      },
      "outputs": [],
      "source": [
        "comments, genders = load_data('/content/drive/MyDrive/Datasets/Bert Modal On One Comment Full Data/cleaned_dataset.csv')\n",
        "\n",
        "# df = pd.DataFrame(list(zip(comments, genders)),\n",
        "#                columns =['comments', 'genders'])\n",
        "\n",
        "# print(df)\n",
        "\n",
        "comments = np.array(comments)\n",
        "genders = np.array(genders)"
      ]
    },
    {
      "cell_type": "code",
      "execution_count": null,
      "metadata": {
        "id": "AeN-9Lmwrj4K"
      },
      "outputs": [],
      "source": [
        "MAX_SEQUENCE_LENGTH = 300\n",
        "MAX_NUM_WORDS = 50000"
      ]
    },
    {
      "cell_type": "code",
      "execution_count": null,
      "metadata": {
        "colab": {
          "base_uri": "https://localhost:8080/"
        },
        "id": "sUMRLTAyrj1a",
        "outputId": "a61ae38e-7d7b-4d82-be1f-17bc3b5589a6"
      },
      "outputs": [],
      "source": [
        "tokenizer = Tokenizer(num_words=MAX_NUM_WORDS)\n",
        "tokenizer.fit_on_texts(comments)\n",
        "sequences = tokenizer.texts_to_sequences(comments)\n",
        "word_index = tokenizer.word_index\n",
        "print('Found %s unique tokens.' % len(word_index))"
      ]
    },
    {
      "cell_type": "code",
      "execution_count": null,
      "metadata": {
        "colab": {
          "base_uri": "https://localhost:8080/"
        },
        "id": "-m51EEJdrjyx",
        "outputId": "f2427983-63ea-433d-f6f9-c0165dd3bb21"
      },
      "outputs": [],
      "source": [
        "data = pad_sequences(sequences, maxlen=MAX_SEQUENCE_LENGTH)\n",
        "labels = to_categorical(genders)\n",
        "print('Shape of data tensor:', data.shape)\n",
        "print('Shape of label tensor:', labels.shape)"
      ]
    },
    {
      "cell_type": "code",
      "execution_count": null,
      "metadata": {
        "colab": {
          "base_uri": "https://localhost:8080/"
        },
        "id": "nJr9kQ3OrjrD",
        "outputId": "c6634d12-d998-4fd2-c113-89ec9c65b3be"
      },
      "outputs": [],
      "source": [
        "X_train, X_test, y_train, y_test = train_test_split(data, labels,\n",
        "                                                    test_size=0.2,\n",
        "                                                    stratify=genders,\n",
        "                                                    random_state=42)\n",
        "print(len(X_train),len( X_test), len(y_train),len( y_test))"
      ]
    },
    {
      "cell_type": "code",
      "execution_count": null,
      "metadata": {
        "id": "Gk6HqTa5rqQ7"
      },
      "outputs": [],
      "source": [
        "EMBEDDING_DIM = 60\n",
        "num_words = MAX_NUM_WORDS\n",
        "embedding_layer = Embedding(num_words,EMBEDDING_DIM,input_length=MAX_SEQUENCE_LENGTH,trainable=True)"
      ]
    },
    {
      "cell_type": "code",
      "execution_count": null,
      "metadata": {
        "colab": {
          "base_uri": "https://localhost:8080/"
        },
        "id": "QTgmhuT5rqOp",
        "outputId": "dad8f9f4-b250-481d-e476-d1babb1d0302"
      },
      "outputs": [],
      "source": [
        "# Model Building\n",
        "\n",
        "sequence_input = Input(shape=(MAX_SEQUENCE_LENGTH,), dtype='int32')\n",
        "embedded_sequences = embedding_layer(sequence_input)\n",
        "x = Conv1D(64, 3, activation='relu')(embedded_sequences)\n",
        "x = Conv1D(64, 3, activation='relu')(x)\n",
        "x = MaxPooling1D(2)(x)\n",
        "x=Flatten()(x)\n",
        "x = Dense(100, activation='relu')(x)\n",
        "preds = Dense(2, activation='softmax')(x)\n",
        "model = Model(sequence_input, preds)\n",
        "model.compile(loss='categorical_crossentropy',optimizer='rmsprop',metrics=['acc'])\n",
        "model.summary()\n"
      ]
    },
    {
      "cell_type": "code",
      "execution_count": null,
      "metadata": {
        "colab": {
          "base_uri": "https://localhost:8080/"
        },
        "id": "N9juv618rqLw",
        "outputId": "c6191da6-87f4-4fcd-e310-f957b2603e12"
      },
      "outputs": [],
      "source": [
        "# Model training\n",
        "\n",
        "model.fit(X_train, y_train,batch_size=50, epochs=30, validation_data=(X_test, y_test))"
      ]
    },
    {
      "cell_type": "code",
      "execution_count": null,
      "metadata": {
        "colab": {
          "base_uri": "https://localhost:8080/"
        },
        "id": "bpQB3KQRrjob",
        "outputId": "38404c9a-e837-4b0e-9a2b-aca429d2450e"
      },
      "outputs": [],
      "source": [
        "# evaluate the model\n",
        "scores = model.evaluate(X_test, y_test, verbose=0)\n",
        "print(\"%s: %.2f%%\" % (model.metrics_names[1], scores[1]*100))"
      ]
    },
    {
      "cell_type": "code",
      "execution_count": null,
      "metadata": {
        "id": "OqsYtqFQryAj"
      },
      "outputs": [],
      "source": [
        "def load_data_for_replaced_dataset(data_file):\n",
        "  # read csv file\n",
        "  df = pd.read_csv(data_file)\n",
        "\n",
        "  # replace nan(no value) comment with \"\"(empty string)\n",
        "  df.fillna(\"\", inplace=True)\n",
        "\n",
        "  comments = df['comment'].tolist()\n",
        "  genders = df['user_gender'].tolist()\n",
        "\n",
        "  genders = [0 if gender == \"Male\" else 1 for gender in genders]\n",
        "\n",
        "  return comments, genders"
      ]
    },
    {
      "cell_type": "code",
      "execution_count": null,
      "metadata": {
        "id": "uMGcwj8yrx1B"
      },
      "outputs": [],
      "source": [
        "replaced_comments, replaced_genders = load_data_for_replaced_dataset('/content/drive/MyDrive/Datasets/CNN/combined_replaced_dataset_one_comment_cnn_with_changed.csv')\n",
        "\n",
        "replaced_comments = np.array(replaced_comments)\n",
        "replaced_genders = np.array(replaced_genders)"
      ]
    },
    {
      "cell_type": "code",
      "execution_count": null,
      "metadata": {
        "id": "Egxyq0WLsGcp"
      },
      "outputs": [],
      "source": [
        "tokenizer = Tokenizer(num_words=MAX_NUM_WORDS)\n",
        "tokenizer.fit_on_texts(replaced_comments)\n",
        "sequences = tokenizer.texts_to_sequences(replaced_comments)\n",
        "replaced_data = pad_sequences(sequences, maxlen=MAX_SEQUENCE_LENGTH)\n",
        "replaced_labels = to_categorical(genders)"
      ]
    },
    {
      "cell_type": "code",
      "execution_count": null,
      "metadata": {
        "colab": {
          "base_uri": "https://localhost:8080/"
        },
        "id": "syNlI7s5sGXE",
        "outputId": "aef01a04-beca-4260-8745-b7b6985f2410"
      },
      "outputs": [],
      "source": [
        "scores = model.evaluate(replaced_data, replaced_labels, verbose=0)\n",
        "print(\"%s: %.2f%%\" % (model.metrics_names[1], scores[1]*100))"
      ]
    },
    {
      "cell_type": "code",
      "execution_count": null,
      "metadata": {
        "id": "xvPlie_esGRf"
      },
      "outputs": [],
      "source": []
    }
  ],
  "metadata": {
    "accelerator": "GPU",
    "colab": {
      "gpuType": "T4",
      "provenance": []
    },
    "kernelspec": {
      "display_name": "Python 3",
      "name": "python3"
    },
    "language_info": {
      "name": "python"
    }
  },
  "nbformat": 4,
  "nbformat_minor": 0
}
