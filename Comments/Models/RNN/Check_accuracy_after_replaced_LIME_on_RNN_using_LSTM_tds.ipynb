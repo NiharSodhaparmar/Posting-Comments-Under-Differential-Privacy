{
 "cells": [
  {
   "cell_type": "code",
   "execution_count": null,
   "metadata": {
    "colab": {
     "base_uri": "https://localhost:8080/"
    },
    "id": "fzjNuFdhLrdF",
    "outputId": "ca40a43f-3e27-442c-f85f-ef2d50f26ce9"
   },
   "outputs": [],
   "source": [
    "from google.colab import drive\n",
    "drive.mount('/content/drive')"
   ]
  },
  {
   "cell_type": "code",
   "execution_count": null,
   "metadata": {
    "colab": {
     "base_uri": "https://localhost:8080/"
    },
    "id": "WSYf3TRZMAnk",
    "outputId": "0bc0ec86-1a1c-46ab-8a27-302ad6a5e1d2"
   },
   "outputs": [],
   "source": [
    "!pip install sentence_transformers\n",
    "!pip install lime"
   ]
  },
  {
   "cell_type": "code",
   "execution_count": null,
   "metadata": {
    "colab": {
     "base_uri": "https://localhost:8080/"
    },
    "id": "ZpWFDxiNMB3D",
    "outputId": "29b844f2-9e28-4c40-a236-d35f6fd11bcc"
   },
   "outputs": [],
   "source": [
    "import numpy as np\n",
    "import pandas as pd\n",
    "import matplotlib.pyplot as plt\n",
    "import seaborn as sns\n",
    "\n",
    "import warnings\n",
    "warnings.filterwarnings(\"ignore\")\n",
    "\n",
    "import re\n",
    "from bs4 import BeautifulSoup\n",
    "from tqdm import tqdm\n",
    "from nltk.stem import WordNetLemmatizer\n",
    "import nltk\n",
    "from nltk.corpus import stopwords\n",
    "nltk.download('wordnet')\n",
    "nltk.download('stopwords')\n",
    "import re\n",
    "from nltk.stem import PorterStemmer\n",
    "from nltk.tokenize import TweetTokenizer\n",
    "import string\n",
    "\n",
    "from sklearn.model_selection import train_test_split\n",
    "from sklearn.metrics import accuracy_score,f1_score, confusion_matrix\n",
    "\n",
    "from keras.preprocessing.text import Tokenizer\n",
    "from keras.preprocessing.sequence import pad_sequences\n",
    "from keras.layers import Dense , Input , LSTM , Embedding, Dropout , Activation, GRU, Flatten\n",
    "from keras.layers import Bidirectional, GlobalMaxPool1D\n",
    "from keras.models import Model, Sequential\n",
    "from keras.layers import Convolution1D\n",
    "from keras import initializers, regularizers, constraints, optimizers, layers\n",
    "from tqdm import tqdm\n",
    "from operator import itemgetter"
   ]
  },
  {
   "cell_type": "code",
   "execution_count": null,
   "metadata": {
    "id": "tG1tYrp-MKnD"
   },
   "outputs": [],
   "source": [
    "def load_data(data_file):\n",
    "  # read csv file\n",
    "  df = pd.read_csv(data_file)\n",
    "\n",
    "  # replace nan(no value) comment with \"\"(empty string)\n",
    "  df.fillna(\"\", inplace=True)\n",
    "\n",
    "  comments = df['comments'].tolist()\n",
    "  genders = df['labels'].tolist()\n",
    "\n",
    "  genders = [0 if gender == \"Male\" else 1 for gender in genders]\n",
    "\n",
    "  return comments, genders"
   ]
  },
  {
   "cell_type": "code",
   "execution_count": null,
   "metadata": {
    "id": "4XCWrLrlMKkz"
   },
   "outputs": [],
   "source": [
    "comments, genders = load_data('/content/drive/MyDrive/Datasets/Bert Modal On One Comment Full Data/cleaned_dataset.csv')\n",
    "\n",
    "# df = pd.DataFrame(list(zip(comments, genders)),\n",
    "#                columns =['comments', 'genders'])\n",
    "\n",
    "# print(df)\n",
    "\n",
    "comments = np.array(comments)\n",
    "genders = np.array(genders)"
   ]
  },
  {
   "cell_type": "code",
   "execution_count": null,
   "metadata": {
    "colab": {
     "base_uri": "https://localhost:8080/"
    },
    "id": "pKSG4JDwMKiU",
    "outputId": "2aabcfd0-58c0-43a4-9f3b-7a9a7a688c85"
   },
   "outputs": [],
   "source": [
    "X_train, X_test, y_train, y_test = train_test_split(comments, genders,\n",
    "                                                    test_size=0.2,\n",
    "                                                    stratify=genders,\n",
    "                                                    random_state=42)\n",
    "print(len(X_train),len( X_test), len(y_train),len( y_test))"
   ]
  },
  {
   "cell_type": "code",
   "execution_count": null,
   "metadata": {
    "id": "tA40Q4N0MKf1"
   },
   "outputs": [],
   "source": [
    "# Model\n",
    "\n",
    "top_words = 300000\n",
    "max_comment_length = 300\n",
    "embedding_vecor_length = 64\n",
    "\n",
    "tokenizer = Tokenizer()\n",
    "tokenizer.fit_on_texts(X_train)\n",
    "list_tokenized_train = tokenizer.texts_to_sequences(X_train)"
   ]
  },
  {
   "cell_type": "code",
   "execution_count": null,
   "metadata": {
    "id": "0UieIS67MV9K"
   },
   "outputs": [],
   "source": [
    "X_train = pad_sequences(list_tokenized_train, maxlen=max_comment_length)"
   ]
  },
  {
   "cell_type": "code",
   "execution_count": null,
   "metadata": {
    "colab": {
     "base_uri": "https://localhost:8080/"
    },
    "id": "CewL0S5SMXYz",
    "outputId": "2266a97e-abf3-45a2-fb38-e97725bfb1d3"
   },
   "outputs": [],
   "source": [
    "model = Sequential()\n",
    "model.add(Embedding(top_words+1, embedding_vecor_length, input_length=max_comment_length))\n",
    "model.add(LSTM(100))\n",
    "model.add(Dense(1, activation='sigmoid'))\n",
    "model.compile(loss='binary_crossentropy', optimizer='adam', metrics=['accuracy'])\n",
    "model.summary()"
   ]
  },
  {
   "cell_type": "code",
   "execution_count": null,
   "metadata": {
    "colab": {
     "base_uri": "https://localhost:8080/"
    },
    "id": "E9PU6TwmMY_Y",
    "outputId": "d1d22f2f-de93-4b01-ecfa-c6386b9513fb"
   },
   "outputs": [],
   "source": [
    "model.fit(X_train,y_train, epochs=10, batch_size=64)"
   ]
  },
  {
   "cell_type": "code",
   "execution_count": null,
   "metadata": {
    "colab": {
     "base_uri": "https://localhost:8080/"
    },
    "id": "ExXBQzp-Mahs",
    "outputId": "60648a8a-50f7-42b2-98ee-8e908b2f668f"
   },
   "outputs": [],
   "source": [
    "list_tokenized_test = tokenizer.texts_to_sequences(X_test)\n",
    "X_test = pad_sequences(list_tokenized_test, maxlen=max_comment_length)\n",
    "prediction = model.predict(X_test)\n",
    "y_pred = (prediction > 0.5)\n",
    "print(\"Accuracy of the model : \", accuracy_score(y_pred, y_test))\n",
    "print('F1-score: ', f1_score(y_pred, y_test))\n",
    "print('Confusion matrix:')\n",
    "confusion_matrix(y_test,y_pred)\n"
   ]
  },
  {
   "cell_type": "code",
   "execution_count": null,
   "metadata": {
    "id": "Kj5mHnvEMcCX"
   },
   "outputs": [],
   "source": [
    "def load_data_for_replaced_dataset(data_file):\n",
    "  # read csv file\n",
    "  df = pd.read_csv(data_file)\n",
    "\n",
    "  # replace nan(no value) comment with \"\"(empty string)\n",
    "  df.fillna(\"\", inplace=True)\n",
    "\n",
    "  comments = df['comment'].tolist()\n",
    "  genders = df['user_gender'].tolist()\n",
    "\n",
    "  genders = [0 if gender == \"Male\" else 1 for gender in genders]\n",
    "\n",
    "  return comments, genders"
   ]
  },
  {
   "cell_type": "code",
   "execution_count": null,
   "metadata": {
    "id": "p-TWCyUsNMhr"
   },
   "outputs": [],
   "source": [
    "replaced_comments, replaced_genders = load_data_for_replaced_dataset('/content/drive/MyDrive/Datasets/RNN/combined_replaced_dataset_one_comment_rnn_with_changed.csv')\n",
    "\n",
    "replaced_comments = np.array(replaced_comments)\n",
    "replaced_genders = np.array(replaced_genders)"
   ]
  },
  {
   "cell_type": "code",
   "execution_count": null,
   "metadata": {
    "colab": {
     "base_uri": "https://localhost:8080/"
    },
    "id": "0e7ym6NhNYzl",
    "outputId": "1d577ac3-e922-40ce-c939-62ab8ace858d"
   },
   "outputs": [],
   "source": [
    "list_tokenized_test = tokenizer.texts_to_sequences(replaced_comments)\n",
    "changed_replaced_comments = pad_sequences(list_tokenized_test, maxlen=max_comment_length)\n",
    "prediction = model.predict(changed_replaced_comments)\n",
    "y_pred = (prediction > 0.5)\n",
    "print(\"Accuracy of the model : \", accuracy_score(y_pred, replaced_genders))\n",
    "print('F1-score: ', f1_score(y_pred, replaced_genders))\n",
    "print('Confusion matrix:')\n",
    "confusion_matrix(replaced_genders,y_pred)\n"
   ]
  },
  {
   "cell_type": "code",
   "execution_count": null,
   "metadata": {
    "id": "llUWuwqWOl2O"
   },
   "outputs": [],
   "source": []
  }
 ],
 "metadata": {
  "accelerator": "GPU",
  "colab": {
   "gpuType": "T4",
   "provenance": []
  },
  "kernelspec": {
   "display_name": "Python 3",
   "name": "python3"
  },
  "language_info": {
   "name": "python"
  }
 },
 "nbformat": 4,
 "nbformat_minor": 0
}
